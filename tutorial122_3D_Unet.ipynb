{
  "nbformat": 4,
  "nbformat_minor": 0,
  "metadata": {
    "accelerator": "GPU",
    "colab": {
      "name": "tutorial122_3D_Unet.ipynb",
      "provenance": [],
      "toc_visible": true,
      "include_colab_link": true
    },
    "kernelspec": {
      "display_name": "Python 3",
      "name": "python3"
    }
  },
  "cells": [
    {
      "cell_type": "markdown",
      "metadata": {
        "id": "view-in-github",
        "colab_type": "text"
      },
      "source": [
        "<a href=\"https://colab.research.google.com/github/stpdety/os161/blob/master/tutorial122_3D_Unet.ipynb\" target=\"_parent\"><img src=\"https://colab.research.google.com/assets/colab-badge.svg\" alt=\"Open In Colab\"/></a>"
      ]
    },
    {
      "cell_type": "markdown",
      "metadata": {
        "id": "e4pVczOB7Qze"
      },
      "source": [
        "https://youtu.be/6mbX4cNGQDk"
      ]
    },
    {
      "cell_type": "markdown",
      "metadata": {
        "id": "91j4KQKXl8Pr"
      },
      "source": [
        "This code uses 3D Unet to train a network on 3D subvolumes (64x64x64).\n",
        "It also segments a large volume and outputs a multidimensional OMETIFF file.<p>\n",
        "Custom dataset is used for this code but it should work on any dataset.\n",
        "<p>\n",
        "The dataset used in this video can be downloaded from the link below. This dataset can be used to train and test machine learning algorithms designed for multiclass semantic segmentation. Please read the Readme document for more information. \n",
        "\n",
        "https://drive.google.com/file/d/1HWtBaSa-LTyAMgf2uaz1T9o1sTWDBajU/view?usp=sharing\n",
        "\n",
        "To annotate your own images, please visit www.apeer.com"
      ]
    },
    {
      "cell_type": "code",
      "metadata": {
        "id": "5iIMqTEEOuUZ"
      },
      "source": [
        "# Building Unet by dividing encoder and decoder into blocks\n",
        "#This is exactly the same unet used in earlier exercises for 2D images.\n",
        "#Except here we change conv2D to conv3D, Maxpooling2D to Maxpooling3D\n",
        "#upsampling2D to upsampling3D and Conv2DTranspose to Conv3DTranspose.\n",
        "#We also change the filter size and pooling sizes from 3x3 and 2x2 to\n",
        "# 3x3x3 and 2x2x2, respectively. \n",
        "\n",
        "from keras.models import Model\n",
        "from keras.layers import Input, Conv3D, MaxPooling3D, UpSampling3D, concatenate, Conv3DTranspose, BatchNormalization, Dropout, Lambda\n",
        "from keras.optimizers import Adam\n",
        "from keras.layers import Activation, MaxPool2D, Concatenate\n",
        "\n",
        "\n",
        "def conv_block(input, num_filters):\n",
        "    x = Conv3D(num_filters, 3, padding=\"same\")(input)\n",
        "    x = BatchNormalization()(x)   #Not in the original network. \n",
        "    x = Activation(\"relu\")(x)\n",
        "\n",
        "    x = Conv3D(num_filters, 3, padding=\"same\")(x)\n",
        "    x = BatchNormalization()(x)  #Not in the original network\n",
        "    x = Activation(\"relu\")(x)\n",
        "\n",
        "    return x\n",
        "\n",
        "#Encoder block: Conv block followed by maxpooling\n",
        "\n",
        "\n",
        "def encoder_block(input, num_filters):\n",
        "    x = conv_block(input, num_filters)\n",
        "    p = MaxPooling3D((2, 2, 2))(x)\n",
        "    return x, p   \n",
        "\n",
        "#Decoder block\n",
        "#skip features gets input from encoder for concatenation\n",
        "\n",
        "def decoder_block(input, skip_features, num_filters):\n",
        "    x = Conv3DTranspose(num_filters, (2, 2, 2), strides=2, padding=\"same\")(input)\n",
        "    x = Concatenate()([x, skip_features])\n",
        "    x = conv_block(x, num_filters)\n",
        "    return x\n",
        "\n",
        "#Build Unet using the blocks\n",
        "def build_unet(input_shape, n_classes):\n",
        "    inputs = Input(input_shape)\n",
        "\n",
        "    s1, p1 = encoder_block(inputs, 64)\n",
        "    s2, p2 = encoder_block(p1, 128)\n",
        "    s3, p3 = encoder_block(p2, 256)\n",
        "    s4, p4 = encoder_block(p3, 512)\n",
        "\n",
        "    b1 = conv_block(p4, 1024) #Bridge\n",
        "\n",
        "    d1 = decoder_block(b1, s4, 512)\n",
        "    d2 = decoder_block(d1, s3, 256)\n",
        "    d3 = decoder_block(d2, s2, 128)\n",
        "    d4 = decoder_block(d3, s1, 64)\n",
        "\n",
        "    if n_classes == 1:  #Binary\n",
        "      activation = 'sigmoid'\n",
        "    else:\n",
        "      activation = 'softmax'\n",
        "\n",
        "    outputs = Conv3D(n_classes, 1, padding=\"same\", activation=activation)(d4)  #Change the activation based on n_classes\n",
        "    print(activation)\n",
        "\n",
        "    model = Model(inputs, outputs, name=\"U-Net\")\n",
        "    return model"
      ],
      "execution_count": null,
      "outputs": []
    },
    {
      "cell_type": "code",
      "metadata": {
        "colab": {
          "base_uri": "https://localhost:8080/"
        },
        "id": "dWrKrCXtPLon",
        "outputId": "d9506adb-81bb-4759-e310-c5d611ded87d"
      },
      "source": [
        "my_model = build_unet((64,64,64,3), n_classes=4)"
      ],
      "execution_count": null,
      "outputs": [
        {
          "output_type": "stream",
          "text": [
            "softmax\n"
          ],
          "name": "stdout"
        }
      ]
    },
    {
      "cell_type": "code",
      "metadata": {
        "id": "xFiKt9hRPlSQ",
        "colab": {
          "base_uri": "https://localhost:8080/"
        },
        "outputId": "d2407544-0aa3-437e-9916-7e24f647c520"
      },
      "source": [
        "print(my_model.summary())"
      ],
      "execution_count": null,
      "outputs": [
        {
          "output_type": "stream",
          "text": [
            "Model: \"U-Net\"\n",
            "__________________________________________________________________________________________________\n",
            "Layer (type)                    Output Shape         Param #     Connected to                     \n",
            "==================================================================================================\n",
            "input_1 (InputLayer)            [(None, 64, 64, 64,  0                                            \n",
            "__________________________________________________________________________________________________\n",
            "conv3d (Conv3D)                 (None, 64, 64, 64, 6 5248        input_1[0][0]                    \n",
            "__________________________________________________________________________________________________\n",
            "batch_normalization (BatchNorma (None, 64, 64, 64, 6 256         conv3d[0][0]                     \n",
            "__________________________________________________________________________________________________\n",
            "activation (Activation)         (None, 64, 64, 64, 6 0           batch_normalization[0][0]        \n",
            "__________________________________________________________________________________________________\n",
            "conv3d_1 (Conv3D)               (None, 64, 64, 64, 6 110656      activation[0][0]                 \n",
            "__________________________________________________________________________________________________\n",
            "batch_normalization_1 (BatchNor (None, 64, 64, 64, 6 256         conv3d_1[0][0]                   \n",
            "__________________________________________________________________________________________________\n",
            "activation_1 (Activation)       (None, 64, 64, 64, 6 0           batch_normalization_1[0][0]      \n",
            "__________________________________________________________________________________________________\n",
            "max_pooling3d (MaxPooling3D)    (None, 32, 32, 32, 6 0           activation_1[0][0]               \n",
            "__________________________________________________________________________________________________\n",
            "conv3d_2 (Conv3D)               (None, 32, 32, 32, 1 221312      max_pooling3d[0][0]              \n",
            "__________________________________________________________________________________________________\n",
            "batch_normalization_2 (BatchNor (None, 32, 32, 32, 1 512         conv3d_2[0][0]                   \n",
            "__________________________________________________________________________________________________\n",
            "activation_2 (Activation)       (None, 32, 32, 32, 1 0           batch_normalization_2[0][0]      \n",
            "__________________________________________________________________________________________________\n",
            "conv3d_3 (Conv3D)               (None, 32, 32, 32, 1 442496      activation_2[0][0]               \n",
            "__________________________________________________________________________________________________\n",
            "batch_normalization_3 (BatchNor (None, 32, 32, 32, 1 512         conv3d_3[0][0]                   \n",
            "__________________________________________________________________________________________________\n",
            "activation_3 (Activation)       (None, 32, 32, 32, 1 0           batch_normalization_3[0][0]      \n",
            "__________________________________________________________________________________________________\n",
            "max_pooling3d_1 (MaxPooling3D)  (None, 16, 16, 16, 1 0           activation_3[0][0]               \n",
            "__________________________________________________________________________________________________\n",
            "conv3d_4 (Conv3D)               (None, 16, 16, 16, 2 884992      max_pooling3d_1[0][0]            \n",
            "__________________________________________________________________________________________________\n",
            "batch_normalization_4 (BatchNor (None, 16, 16, 16, 2 1024        conv3d_4[0][0]                   \n",
            "__________________________________________________________________________________________________\n",
            "activation_4 (Activation)       (None, 16, 16, 16, 2 0           batch_normalization_4[0][0]      \n",
            "__________________________________________________________________________________________________\n",
            "conv3d_5 (Conv3D)               (None, 16, 16, 16, 2 1769728     activation_4[0][0]               \n",
            "__________________________________________________________________________________________________\n",
            "batch_normalization_5 (BatchNor (None, 16, 16, 16, 2 1024        conv3d_5[0][0]                   \n",
            "__________________________________________________________________________________________________\n",
            "activation_5 (Activation)       (None, 16, 16, 16, 2 0           batch_normalization_5[0][0]      \n",
            "__________________________________________________________________________________________________\n",
            "max_pooling3d_2 (MaxPooling3D)  (None, 8, 8, 8, 256) 0           activation_5[0][0]               \n",
            "__________________________________________________________________________________________________\n",
            "conv3d_6 (Conv3D)               (None, 8, 8, 8, 512) 3539456     max_pooling3d_2[0][0]            \n",
            "__________________________________________________________________________________________________\n",
            "batch_normalization_6 (BatchNor (None, 8, 8, 8, 512) 2048        conv3d_6[0][0]                   \n",
            "__________________________________________________________________________________________________\n",
            "activation_6 (Activation)       (None, 8, 8, 8, 512) 0           batch_normalization_6[0][0]      \n",
            "__________________________________________________________________________________________________\n",
            "conv3d_7 (Conv3D)               (None, 8, 8, 8, 512) 7078400     activation_6[0][0]               \n",
            "__________________________________________________________________________________________________\n",
            "batch_normalization_7 (BatchNor (None, 8, 8, 8, 512) 2048        conv3d_7[0][0]                   \n",
            "__________________________________________________________________________________________________\n",
            "activation_7 (Activation)       (None, 8, 8, 8, 512) 0           batch_normalization_7[0][0]      \n",
            "__________________________________________________________________________________________________\n",
            "max_pooling3d_3 (MaxPooling3D)  (None, 4, 4, 4, 512) 0           activation_7[0][0]               \n",
            "__________________________________________________________________________________________________\n",
            "conv3d_8 (Conv3D)               (None, 4, 4, 4, 1024 14156800    max_pooling3d_3[0][0]            \n",
            "__________________________________________________________________________________________________\n",
            "batch_normalization_8 (BatchNor (None, 4, 4, 4, 1024 4096        conv3d_8[0][0]                   \n",
            "__________________________________________________________________________________________________\n",
            "activation_8 (Activation)       (None, 4, 4, 4, 1024 0           batch_normalization_8[0][0]      \n",
            "__________________________________________________________________________________________________\n",
            "conv3d_9 (Conv3D)               (None, 4, 4, 4, 1024 28312576    activation_8[0][0]               \n",
            "__________________________________________________________________________________________________\n",
            "batch_normalization_9 (BatchNor (None, 4, 4, 4, 1024 4096        conv3d_9[0][0]                   \n",
            "__________________________________________________________________________________________________\n",
            "activation_9 (Activation)       (None, 4, 4, 4, 1024 0           batch_normalization_9[0][0]      \n",
            "__________________________________________________________________________________________________\n",
            "conv3d_transpose (Conv3DTranspo (None, 8, 8, 8, 512) 4194816     activation_9[0][0]               \n",
            "__________________________________________________________________________________________________\n",
            "concatenate (Concatenate)       (None, 8, 8, 8, 1024 0           conv3d_transpose[0][0]           \n",
            "                                                                 activation_7[0][0]               \n",
            "__________________________________________________________________________________________________\n",
            "conv3d_10 (Conv3D)              (None, 8, 8, 8, 512) 14156288    concatenate[0][0]                \n",
            "__________________________________________________________________________________________________\n",
            "batch_normalization_10 (BatchNo (None, 8, 8, 8, 512) 2048        conv3d_10[0][0]                  \n",
            "__________________________________________________________________________________________________\n",
            "activation_10 (Activation)      (None, 8, 8, 8, 512) 0           batch_normalization_10[0][0]     \n",
            "__________________________________________________________________________________________________\n",
            "conv3d_11 (Conv3D)              (None, 8, 8, 8, 512) 7078400     activation_10[0][0]              \n",
            "__________________________________________________________________________________________________\n",
            "batch_normalization_11 (BatchNo (None, 8, 8, 8, 512) 2048        conv3d_11[0][0]                  \n",
            "__________________________________________________________________________________________________\n",
            "activation_11 (Activation)      (None, 8, 8, 8, 512) 0           batch_normalization_11[0][0]     \n",
            "__________________________________________________________________________________________________\n",
            "conv3d_transpose_1 (Conv3DTrans (None, 16, 16, 16, 2 1048832     activation_11[0][0]              \n",
            "__________________________________________________________________________________________________\n",
            "concatenate_1 (Concatenate)     (None, 16, 16, 16, 5 0           conv3d_transpose_1[0][0]         \n",
            "                                                                 activation_5[0][0]               \n",
            "__________________________________________________________________________________________________\n",
            "conv3d_12 (Conv3D)              (None, 16, 16, 16, 2 3539200     concatenate_1[0][0]              \n",
            "__________________________________________________________________________________________________\n",
            "batch_normalization_12 (BatchNo (None, 16, 16, 16, 2 1024        conv3d_12[0][0]                  \n",
            "__________________________________________________________________________________________________\n",
            "activation_12 (Activation)      (None, 16, 16, 16, 2 0           batch_normalization_12[0][0]     \n",
            "__________________________________________________________________________________________________\n",
            "conv3d_13 (Conv3D)              (None, 16, 16, 16, 2 1769728     activation_12[0][0]              \n",
            "__________________________________________________________________________________________________\n",
            "batch_normalization_13 (BatchNo (None, 16, 16, 16, 2 1024        conv3d_13[0][0]                  \n",
            "__________________________________________________________________________________________________\n",
            "activation_13 (Activation)      (None, 16, 16, 16, 2 0           batch_normalization_13[0][0]     \n",
            "__________________________________________________________________________________________________\n",
            "conv3d_transpose_2 (Conv3DTrans (None, 32, 32, 32, 1 262272      activation_13[0][0]              \n",
            "__________________________________________________________________________________________________\n",
            "concatenate_2 (Concatenate)     (None, 32, 32, 32, 2 0           conv3d_transpose_2[0][0]         \n",
            "                                                                 activation_3[0][0]               \n",
            "__________________________________________________________________________________________________\n",
            "conv3d_14 (Conv3D)              (None, 32, 32, 32, 1 884864      concatenate_2[0][0]              \n",
            "__________________________________________________________________________________________________\n",
            "batch_normalization_14 (BatchNo (None, 32, 32, 32, 1 512         conv3d_14[0][0]                  \n",
            "__________________________________________________________________________________________________\n",
            "activation_14 (Activation)      (None, 32, 32, 32, 1 0           batch_normalization_14[0][0]     \n",
            "__________________________________________________________________________________________________\n",
            "conv3d_15 (Conv3D)              (None, 32, 32, 32, 1 442496      activation_14[0][0]              \n",
            "__________________________________________________________________________________________________\n",
            "batch_normalization_15 (BatchNo (None, 32, 32, 32, 1 512         conv3d_15[0][0]                  \n",
            "__________________________________________________________________________________________________\n",
            "activation_15 (Activation)      (None, 32, 32, 32, 1 0           batch_normalization_15[0][0]     \n",
            "__________________________________________________________________________________________________\n",
            "conv3d_transpose_3 (Conv3DTrans (None, 64, 64, 64, 6 65600       activation_15[0][0]              \n",
            "__________________________________________________________________________________________________\n",
            "concatenate_3 (Concatenate)     (None, 64, 64, 64, 1 0           conv3d_transpose_3[0][0]         \n",
            "                                                                 activation_1[0][0]               \n",
            "__________________________________________________________________________________________________\n",
            "conv3d_16 (Conv3D)              (None, 64, 64, 64, 6 221248      concatenate_3[0][0]              \n",
            "__________________________________________________________________________________________________\n",
            "batch_normalization_16 (BatchNo (None, 64, 64, 64, 6 256         conv3d_16[0][0]                  \n",
            "__________________________________________________________________________________________________\n",
            "activation_16 (Activation)      (None, 64, 64, 64, 6 0           batch_normalization_16[0][0]     \n",
            "__________________________________________________________________________________________________\n",
            "conv3d_17 (Conv3D)              (None, 64, 64, 64, 6 110656      activation_16[0][0]              \n",
            "__________________________________________________________________________________________________\n",
            "batch_normalization_17 (BatchNo (None, 64, 64, 64, 6 256         conv3d_17[0][0]                  \n",
            "__________________________________________________________________________________________________\n",
            "activation_17 (Activation)      (None, 64, 64, 64, 6 0           batch_normalization_17[0][0]     \n",
            "__________________________________________________________________________________________________\n",
            "conv3d_18 (Conv3D)              (None, 64, 64, 64, 4 260         activation_17[0][0]              \n",
            "==================================================================================================\n",
            "Total params: 90,319,876\n",
            "Trainable params: 90,308,100\n",
            "Non-trainable params: 11,776\n",
            "__________________________________________________________________________________________________\n",
            "None\n"
          ],
          "name": "stdout"
        }
      ]
    },
    {
      "cell_type": "code",
      "metadata": {
        "colab": {
          "base_uri": "https://localhost:8080/"
        },
        "id": "uusLfD-VzEN-",
        "outputId": "7b9dfd9e-48cd-48bf-bb99-882fb4596d53"
      },
      "source": [
        "my_model.input_shape"
      ],
      "execution_count": null,
      "outputs": [
        {
          "output_type": "execute_result",
          "data": {
            "text/plain": [
              "(None, 64, 64, 64, 3)"
            ]
          },
          "metadata": {
            "tags": []
          },
          "execution_count": 4
        }
      ]
    },
    {
      "cell_type": "code",
      "metadata": {
        "id": "DFJYJc1p_LRy",
        "colab": {
          "base_uri": "https://localhost:8080/"
        },
        "outputId": "da93ac86-ad8d-4b6c-fd22-9a309cc774e3"
      },
      "source": [
        "#Use patchify to break large volumes into smaller for training \n",
        "#and also to put patches back together after prediction.\n",
        "!pip install patchify"
      ],
      "execution_count": null,
      "outputs": [
        {
          "output_type": "stream",
          "text": [
            "Collecting patchify\n",
            "  Downloading https://files.pythonhosted.org/packages/00/ce/d76647d95aad98d5532b5d25801dedda788c6b5d4c7457d30ae3612132af/patchify-0.2.3-py3-none-any.whl\n",
            "Requirement already satisfied: numpy<2,>=1 in /usr/local/lib/python3.7/dist-packages (from patchify) (1.19.5)\n",
            "Installing collected packages: patchify\n",
            "Successfully installed patchify-0.2.3\n"
          ],
          "name": "stdout"
        }
      ]
    },
    {
      "cell_type": "code",
      "metadata": {
        "id": "foXdS4Uil4WP",
        "colab": {
          "base_uri": "https://localhost:8080/"
        },
        "outputId": "8de58faf-9837-441e-af9a-7af91292b591"
      },
      "source": [
        "import tensorflow as tf\n",
        "import keras\n",
        "print(tf.__version__)\n",
        "print(keras.__version__)"
      ],
      "execution_count": null,
      "outputs": [
        {
          "output_type": "stream",
          "text": [
            "2.5.0\n",
            "2.5.0\n"
          ],
          "name": "stdout"
        }
      ]
    },
    {
      "cell_type": "code",
      "metadata": {
        "id": "45aZsgManbdG",
        "colab": {
          "base_uri": "https://localhost:8080/"
        },
        "outputId": "12c935d1-ea38-4736-baf3-dc4dda1ae6ad"
      },
      "source": [
        "#Make sure the GPU is available. \n",
        "import tensorflow as tf\n",
        "device_name = tf.test.gpu_device_name()\n",
        "if device_name != '/device:GPU:0':\n",
        "  raise SystemError('GPU device not found')\n",
        "print('Found GPU at: {}'.format(device_name))"
      ],
      "execution_count": null,
      "outputs": [
        {
          "output_type": "stream",
          "text": [
            "Found GPU at: /device:GPU:0\n"
          ],
          "name": "stdout"
        }
      ]
    },
    {
      "cell_type": "code",
      "metadata": {
        "id": "d7hKivzw-0V9"
      },
      "source": [
        "from skimage import io\n",
        "from patchify import patchify, unpatchify\n",
        "import numpy as np\n",
        "from matplotlib import pyplot as plt\n",
        "from keras import backend as K\n",
        "from tensorflow.keras.utils import to_categorical\n",
        "from sklearn.model_selection import train_test_split"
      ],
      "execution_count": null,
      "outputs": []
    },
    {
      "cell_type": "code",
      "metadata": {
        "colab": {
          "base_uri": "https://localhost:8080/"
        },
        "id": "bdE84tORQ7vP",
        "outputId": "2bbc5878-32e6-47bf-b085-1a8f27c5b018"
      },
      "source": [
        "from google.colab import drive\n",
        "drive.mount('/content/drive')"
      ],
      "execution_count": null,
      "outputs": [
        {
          "output_type": "stream",
          "text": [
            "Mounted at /content/drive\n"
          ],
          "name": "stdout"
        }
      ]
    },
    {
      "cell_type": "code",
      "metadata": {
        "id": "HWZiqrMK-kVb"
      },
      "source": [
        "#Load input images and masks. \n",
        "#Here we load 256x256x256 pixel volume. We will break it into patches of 64x64x64 for training. \n",
        "image = io.imread('/content/drive/MyDrive/Colab Notebooks/data/sandstone/3d_data/train_images_256_256_256.tif')\n",
        "img_patches = patchify(image, (64, 64, 64), step=64)  #Step=64 for 64 patches means no overlap\n",
        "\n",
        "mask = io.imread('/content/drive/MyDrive/Colab Notebooks/data/sandstone/3d_data/train_masks_256_256_256.tif')\n",
        "mask_patches = patchify(mask, (64, 64, 64), step=64)  \n"
      ],
      "execution_count": null,
      "outputs": []
    },
    {
      "cell_type": "code",
      "metadata": {
        "id": "A8a8BumA_qpa",
        "colab": {
          "base_uri": "https://localhost:8080/",
          "height": 285
        },
        "outputId": "7e78d629-8f0e-434d-f424-6a4405341d3d"
      },
      "source": [
        "plt.imshow(img_patches[1,2,3,:,:,32])\n",
        "#"
      ],
      "execution_count": null,
      "outputs": [
        {
          "output_type": "execute_result",
          "data": {
            "text/plain": [
              "<matplotlib.image.AxesImage at 0x7f67d0c85510>"
            ]
          },
          "metadata": {
            "tags": []
          },
          "execution_count": 13
        },
        {
          "output_type": "display_data",
          "data": {
            "image/png": "[encoded data removed]",
            "text/plain": [
              "<Figure size 432x288 with 1 Axes>"
            ]
          },
          "metadata": {
            "tags": [],
            "needs_background": "light"
          }
        }
      ]
    },
    {
      "cell_type": "code",
      "metadata": {
        "colab": {
          "base_uri": "https://localhost:8080/",
          "height": 285
        },
        "id": "JfyLfO5-z5f-",
        "outputId": "e6571555-f8f0-4f87-871a-4770921a982f"
      },
      "source": [
        "plt.imshow(mask_patches[1,2,3,:,:,32])"
      ],
      "execution_count": null,
      "outputs": [
        {
          "output_type": "execute_result",
          "data": {
            "text/plain": [
              "<matplotlib.image.AxesImage at 0x7f67d0bcb0d0>"
            ]
          },
          "metadata": {
            "tags": []
          },
          "execution_count": 14
        },
        {
          "output_type": "display_data",
          "data": {
            "image/png": "[encoded data removed]",
            "text/plain": [
              "<Figure size 432x288 with 1 Axes>"
            ]
          },
          "metadata": {
            "tags": [],
            "needs_background": "light"
          }
        }
      ]
    },
    {
      "cell_type": "code",
      "metadata": {
        "id": "K08wiQ0y-ogu",
        "colab": {
          "base_uri": "https://localhost:8080/"
        },
        "outputId": "834486ee-7d45-4f97-9b03-e63b7cb1c3f0"
      },
      "source": [
        "\n",
        "input_img = np.reshape(img_patches, (-1, img_patches.shape[3], img_patches.shape[4], img_patches.shape[5]))\n",
        "input_mask = np.reshape(mask_patches, (-1, mask_patches.shape[3], mask_patches.shape[4], mask_patches.shape[5]))\n",
        "\n",
        "print(input_img.shape)  # n_patches, x, y, z\n",
        "\n"
      ],
      "execution_count": null,
      "outputs": [
        {
          "output_type": "stream",
          "text": [
            "(64, 64, 64, 64)\n"
          ],
          "name": "stdout"
        }
      ]
    },
    {
      "cell_type": "code",
      "metadata": {
        "id": "3FqzxzsX_4YQ"
      },
      "source": [
        "n_classes=4"
      ],
      "execution_count": null,
      "outputs": []
    },
    {
      "cell_type": "code",
      "metadata": {
        "id": "av8BBXU0-rdw"
      },
      "source": [
        "#Convert grey image to 3 channels by copying channel 3 times.\n",
        "#We do this as our unet model expects 3 channel input. \n",
        "\n",
        "train_img = np.stack((input_img,)*3, axis=-1)\n",
        "train_img = train_img / 255. \n",
        "train_mask = np.expand_dims(input_mask, axis=4)\n",
        "\n",
        "\n",
        "train_mask_cat = to_categorical(train_mask, num_classes=n_classes)\n",
        "\n",
        "\n",
        "X_train, X_test, y_train, y_test = train_test_split(train_img, train_mask_cat, test_size = 0.10, random_state = 0)\n",
        "\n"
      ],
      "execution_count": null,
      "outputs": []
    },
    {
      "cell_type": "code",
      "metadata": {
        "id": "Higavd5lmj6A"
      },
      "source": [
        "\n",
        "# Loss Function and coefficients to be used during training:\n",
        "def dice_coefficient(y_true, y_pred):\n",
        "    smoothing_factor = 1\n",
        "    flat_y_true = K.flatten(y_true)\n",
        "    flat_y_pred = K.flatten(y_pred)\n",
        "    return (2. * K.sum(flat_y_true * flat_y_pred) + smoothing_factor) / (K.sum(flat_y_true) + K.sum(flat_y_pred) + smoothing_factor)\n",
        "\n",
        "def dice_coefficient_loss(y_true, y_pred):\n",
        "    return 1 - dice_coefficient(y_true, y_pred)\n"
      ],
      "execution_count": null,
      "outputs": []
    },
    {
      "cell_type": "code",
      "metadata": {
        "id": "mWiQsv6IqGGF"
      },
      "source": [
        "#Define parameters for our model.\n",
        "\n",
        "patch_size = 64\n",
        "channels=3\n",
        "\n",
        "LR = 0.0001\n",
        "optim = keras.optimizers.Adam(LR)\n"
      ],
      "execution_count": null,
      "outputs": []
    },
    {
      "cell_type": "code",
      "metadata": {
        "colab": {
          "base_uri": "https://localhost:8080/"
        },
        "id": "SYR2h6i3SPLU",
        "outputId": "11a93157-e2c8-40d9-bd37-4ca7c5917c9c"
      },
      "source": [
        "model = build_unet((patch_size,patch_size,patch_size,channels), n_classes=n_classes)"
      ],
      "execution_count": null,
      "outputs": [
        {
          "output_type": "stream",
          "text": [
            "softmax\n"
          ],
          "name": "stdout"
        }
      ]
    },
    {
      "cell_type": "code",
      "metadata": {
        "id": "BS6ojei4SfyF",
        "colab": {
          "base_uri": "https://localhost:8080/"
        },
        "outputId": "62d2815b-eec6-4ce4-bdfd-ae1b14e696a0"
      },
      "source": [
        "model.compile(optimizer = optim, loss=dice_coefficient_loss, metrics=dice_coefficient)\n",
        "print(model.summary())"
      ],
      "execution_count": null,
      "outputs": [
        {
          "output_type": "stream",
          "text": [
            "Model: \"U-Net\"\n",
            "__________________________________________________________________________________________________\n",
            "Layer (type)                    Output Shape         Param #     Connected to                     \n",
            "==================================================================================================\n",
            "input_2 (InputLayer)            [(None, 64, 64, 64,  0                                            \n",
            "__________________________________________________________________________________________________\n",
            "conv3d_19 (Conv3D)              (None, 64, 64, 64, 6 5248        input_2[0][0]                    \n",
            "__________________________________________________________________________________________________\n",
            "batch_normalization_18 (BatchNo (None, 64, 64, 64, 6 256         conv3d_19[0][0]                  \n",
            "__________________________________________________________________________________________________\n",
            "activation_18 (Activation)      (None, 64, 64, 64, 6 0           batch_normalization_18[0][0]     \n",
            "__________________________________________________________________________________________________\n",
            "conv3d_20 (Conv3D)              (None, 64, 64, 64, 6 110656      activation_18[0][0]              \n",
            "__________________________________________________________________________________________________\n",
            "batch_normalization_19 (BatchNo (None, 64, 64, 64, 6 256         conv3d_20[0][0]                  \n",
            "__________________________________________________________________________________________________\n",
            "activation_19 (Activation)      (None, 64, 64, 64, 6 0           batch_normalization_19[0][0]     \n",
            "__________________________________________________________________________________________________\n",
            "max_pooling3d_4 (MaxPooling3D)  (None, 32, 32, 32, 6 0           activation_19[0][0]              \n",
            "__________________________________________________________________________________________________\n",
            "conv3d_21 (Conv3D)              (None, 32, 32, 32, 1 221312      max_pooling3d_4[0][0]            \n",
            "__________________________________________________________________________________________________\n",
            "batch_normalization_20 (BatchNo (None, 32, 32, 32, 1 512         conv3d_21[0][0]                  \n",
            "__________________________________________________________________________________________________\n",
            "activation_20 (Activation)      (None, 32, 32, 32, 1 0           batch_normalization_20[0][0]     \n",
            "__________________________________________________________________________________________________\n",
            "conv3d_22 (Conv3D)              (None, 32, 32, 32, 1 442496      activation_20[0][0]              \n",
            "__________________________________________________________________________________________________\n",
            "batch_normalization_21 (BatchNo (None, 32, 32, 32, 1 512         conv3d_22[0][0]                  \n",
            "__________________________________________________________________________________________________\n",
            "activation_21 (Activation)      (None, 32, 32, 32, 1 0           batch_normalization_21[0][0]     \n",
            "__________________________________________________________________________________________________\n",
            "max_pooling3d_5 (MaxPooling3D)  (None, 16, 16, 16, 1 0           activation_21[0][0]              \n",
            "__________________________________________________________________________________________________\n",
            "conv3d_23 (Conv3D)              (None, 16, 16, 16, 2 884992      max_pooling3d_5[0][0]            \n",
            "__________________________________________________________________________________________________\n",
            "batch_normalization_22 (BatchNo (None, 16, 16, 16, 2 1024        conv3d_23[0][0]                  \n",
            "__________________________________________________________________________________________________\n",
            "activation_22 (Activation)      (None, 16, 16, 16, 2 0           batch_normalization_22[0][0]     \n",
            "__________________________________________________________________________________________________\n",
            "conv3d_24 (Conv3D)              (None, 16, 16, 16, 2 1769728     activation_22[0][0]              \n",
            "__________________________________________________________________________________________________\n",
            "batch_normalization_23 (BatchNo (None, 16, 16, 16, 2 1024        conv3d_24[0][0]                  \n",
            "__________________________________________________________________________________________________\n",
            "activation_23 (Activation)      (None, 16, 16, 16, 2 0           batch_normalization_23[0][0]     \n",
            "__________________________________________________________________________________________________\n",
            "max_pooling3d_6 (MaxPooling3D)  (None, 8, 8, 8, 256) 0           activation_23[0][0]              \n",
            "__________________________________________________________________________________________________\n",
            "conv3d_25 (Conv3D)              (None, 8, 8, 8, 512) 3539456     max_pooling3d_6[0][0]            \n",
            "__________________________________________________________________________________________________\n",
            "batch_normalization_24 (BatchNo (None, 8, 8, 8, 512) 2048        conv3d_25[0][0]                  \n",
            "__________________________________________________________________________________________________\n",
            "activation_24 (Activation)      (None, 8, 8, 8, 512) 0           batch_normalization_24[0][0]     \n",
            "__________________________________________________________________________________________________\n",
            "conv3d_26 (Conv3D)              (None, 8, 8, 8, 512) 7078400     activation_24[0][0]              \n",
            "__________________________________________________________________________________________________\n",
            "batch_normalization_25 (BatchNo (None, 8, 8, 8, 512) 2048        conv3d_26[0][0]                  \n",
            "__________________________________________________________________________________________________\n",
            "activation_25 (Activation)      (None, 8, 8, 8, 512) 0           batch_normalization_25[0][0]     \n",
            "__________________________________________________________________________________________________\n",
            "max_pooling3d_7 (MaxPooling3D)  (None, 4, 4, 4, 512) 0           activation_25[0][0]              \n",
            "__________________________________________________________________________________________________\n",
            "conv3d_27 (Conv3D)              (None, 4, 4, 4, 1024 14156800    max_pooling3d_7[0][0]            \n",
            "__________________________________________________________________________________________________\n",
            "batch_normalization_26 (BatchNo (None, 4, 4, 4, 1024 4096        conv3d_27[0][0]                  \n",
            "__________________________________________________________________________________________________\n",
            "activation_26 (Activation)      (None, 4, 4, 4, 1024 0           batch_normalization_26[0][0]     \n",
            "__________________________________________________________________________________________________\n",
            "conv3d_28 (Conv3D)              (None, 4, 4, 4, 1024 28312576    activation_26[0][0]              \n",
            "__________________________________________________________________________________________________\n",
            "batch_normalization_27 (BatchNo (None, 4, 4, 4, 1024 4096        conv3d_28[0][0]                  \n",
            "__________________________________________________________________________________________________\n",
            "activation_27 (Activation)      (None, 4, 4, 4, 1024 0           batch_normalization_27[0][0]     \n",
            "__________________________________________________________________________________________________\n",
            "conv3d_transpose_4 (Conv3DTrans (None, 8, 8, 8, 512) 4194816     activation_27[0][0]              \n",
            "__________________________________________________________________________________________________\n",
            "concatenate_4 (Concatenate)     (None, 8, 8, 8, 1024 0           conv3d_transpose_4[0][0]         \n",
            "                                                                 activation_25[0][0]              \n",
            "__________________________________________________________________________________________________\n",
            "conv3d_29 (Conv3D)              (None, 8, 8, 8, 512) 14156288    concatenate_4[0][0]              \n",
            "__________________________________________________________________________________________________\n",
            "batch_normalization_28 (BatchNo (None, 8, 8, 8, 512) 2048        conv3d_29[0][0]                  \n",
            "__________________________________________________________________________________________________\n",
            "activation_28 (Activation)      (None, 8, 8, 8, 512) 0           batch_normalization_28[0][0]     \n",
            "__________________________________________________________________________________________________\n",
            "conv3d_30 (Conv3D)              (None, 8, 8, 8, 512) 7078400     activation_28[0][0]              \n",
            "__________________________________________________________________________________________________\n",
            "batch_normalization_29 (BatchNo (None, 8, 8, 8, 512) 2048        conv3d_30[0][0]                  \n",
            "__________________________________________________________________________________________________\n",
            "activation_29 (Activation)      (None, 8, 8, 8, 512) 0           batch_normalization_29[0][0]     \n",
            "__________________________________________________________________________________________________\n",
            "conv3d_transpose_5 (Conv3DTrans (None, 16, 16, 16, 2 1048832     activation_29[0][0]              \n",
            "__________________________________________________________________________________________________\n",
            "concatenate_5 (Concatenate)     (None, 16, 16, 16, 5 0           conv3d_transpose_5[0][0]         \n",
            "                                                                 activation_23[0][0]              \n",
            "__________________________________________________________________________________________________\n",
            "conv3d_31 (Conv3D)              (None, 16, 16, 16, 2 3539200     concatenate_5[0][0]              \n",
            "__________________________________________________________________________________________________\n",
            "batch_normalization_30 (BatchNo (None, 16, 16, 16, 2 1024        conv3d_31[0][0]                  \n",
            "__________________________________________________________________________________________________\n",
            "activation_30 (Activation)      (None, 16, 16, 16, 2 0           batch_normalization_30[0][0]     \n",
            "__________________________________________________________________________________________________\n",
            "conv3d_32 (Conv3D)              (None, 16, 16, 16, 2 1769728     activation_30[0][0]              \n",
            "__________________________________________________________________________________________________\n",
            "batch_normalization_31 (BatchNo (None, 16, 16, 16, 2 1024        conv3d_32[0][0]                  \n",
            "__________________________________________________________________________________________________\n",
            "activation_31 (Activation)      (None, 16, 16, 16, 2 0           batch_normalization_31[0][0]     \n",
            "__________________________________________________________________________________________________\n",
            "conv3d_transpose_6 (Conv3DTrans (None, 32, 32, 32, 1 262272      activation_31[0][0]              \n",
            "__________________________________________________________________________________________________\n",
            "concatenate_6 (Concatenate)     (None, 32, 32, 32, 2 0           conv3d_transpose_6[0][0]         \n",
            "                                                                 activation_21[0][0]              \n",
            "__________________________________________________________________________________________________\n",
            "conv3d_33 (Conv3D)              (None, 32, 32, 32, 1 884864      concatenate_6[0][0]              \n",
            "__________________________________________________________________________________________________\n",
            "batch_normalization_32 (BatchNo (None, 32, 32, 32, 1 512         conv3d_33[0][0]                  \n",
            "__________________________________________________________________________________________________\n",
            "activation_32 (Activation)      (None, 32, 32, 32, 1 0           batch_normalization_32[0][0]     \n",
            "__________________________________________________________________________________________________\n",
            "conv3d_34 (Conv3D)              (None, 32, 32, 32, 1 442496      activation_32[0][0]              \n",
            "__________________________________________________________________________________________________\n",
            "batch_normalization_33 (BatchNo (None, 32, 32, 32, 1 512         conv3d_34[0][0]                  \n",
            "__________________________________________________________________________________________________\n",
            "activation_33 (Activation)      (None, 32, 32, 32, 1 0           batch_normalization_33[0][0]     \n",
            "__________________________________________________________________________________________________\n",
            "conv3d_transpose_7 (Conv3DTrans (None, 64, 64, 64, 6 65600       activation_33[0][0]              \n",
            "__________________________________________________________________________________________________\n",
            "concatenate_7 (Concatenate)     (None, 64, 64, 64, 1 0           conv3d_transpose_7[0][0]         \n",
            "                                                                 activation_19[0][0]              \n",
            "__________________________________________________________________________________________________\n",
            "conv3d_35 (Conv3D)              (None, 64, 64, 64, 6 221248      concatenate_7[0][0]              \n",
            "__________________________________________________________________________________________________\n",
            "batch_normalization_34 (BatchNo (None, 64, 64, 64, 6 256         conv3d_35[0][0]                  \n",
            "__________________________________________________________________________________________________\n",
            "activation_34 (Activation)      (None, 64, 64, 64, 6 0           batch_normalization_34[0][0]     \n",
            "__________________________________________________________________________________________________\n",
            "conv3d_36 (Conv3D)              (None, 64, 64, 64, 6 110656      activation_34[0][0]              \n",
            "__________________________________________________________________________________________________\n",
            "batch_normalization_35 (BatchNo (None, 64, 64, 64, 6 256         conv3d_36[0][0]                  \n",
            "__________________________________________________________________________________________________\n",
            "activation_35 (Activation)      (None, 64, 64, 64, 6 0           batch_normalization_35[0][0]     \n",
            "__________________________________________________________________________________________________\n",
            "conv3d_37 (Conv3D)              (None, 64, 64, 64, 4 260         activation_35[0][0]              \n",
            "==================================================================================================\n",
            "Total params: 90,319,876\n",
            "Trainable params: 90,308,100\n",
            "Non-trainable params: 11,776\n",
            "__________________________________________________________________________________________________\n",
            "None\n"
          ],
          "name": "stdout"
        }
      ]
    },
    {
      "cell_type": "code",
      "metadata": {
        "colab": {
          "base_uri": "https://localhost:8080/"
        },
        "id": "sivlad34SyKP",
        "outputId": "10075513-6eca-488e-ffff-b20b7e631a62"
      },
      "source": [
        "print(model.input_shape)\n",
        "print(X_train.shape)\n",
        "print(model.output_shape)\n",
        "print(y_train.shape)\n",
        "print(\"-------------------\")\n",
        "print(X_train.max())  #Shpuld be 1 after scaling. If it shows 255, go back and normalize/scale inputs\n"
      ],
      "execution_count": null,
      "outputs": [
        {
          "output_type": "stream",
          "text": [
            "(None, 64, 64, 64, 3)\n",
            "(57, 64, 64, 64, 3)\n",
            "(None, 64, 64, 64, 4)\n",
            "(57, 64, 64, 64, 4)\n",
            "-------------------\n",
            "1.0\n"
          ],
          "name": "stdout"
        }
      ]
    },
    {
      "cell_type": "code",
      "metadata": {
        "id": "f69gK8DoAQ1C",
        "colab": {
          "base_uri": "https://localhost:8080/"
        },
        "outputId": "38a2fade-872f-4ba5-94c2-f1d0a763f314"
      },
      "source": [
        "#Fit the model\n",
        "history=model.fit(X_train, \n",
        "          y_train,\n",
        "          batch_size=8, \n",
        "          epochs=100,\n",
        "          verbose=1,\n",
        "          validation_data=(X_test, y_test))"
      ],
      "execution_count": null,
      "outputs": [
        {
          "output_type": "stream",
          "text": [
            "Epoch 1/100\n",
            "8/8 [==============================] - 115s 6s/step - loss: 0.5860 - dice_coefficient: 0.4152 - val_loss: 0.7519 - val_dice_coefficient: 0.2481\n",
            "Epoch 2/100\n",
            "8/8 [==============================] - 30s 4s/step - loss: 0.3379 - dice_coefficient: 0.6611 - val_loss: 0.7152 - val_dice_coefficient: 0.2848\n",
            "Epoch 3/100\n",
            "8/8 [==============================] - 30s 4s/step - loss: 0.2799 - dice_coefficient: 0.7206 - val_loss: 0.6670 - val_dice_coefficient: 0.3330\n",
            "Epoch 4/100\n",
            "8/8 [==============================] - 29s 4s/step - loss: 0.2409 - dice_coefficient: 0.7594 - val_loss: 0.6347 - val_dice_coefficient: 0.3653\n",
            "Epoch 5/100\n",
            "8/8 [==============================] - 30s 4s/step - loss: 0.2213 - dice_coefficient: 0.7779 - val_loss: 0.5993 - val_dice_coefficient: 0.4007\n",
            "Epoch 6/100\n",
            "8/8 [==============================] - 30s 4s/step - loss: 0.2027 - dice_coefficient: 0.7977 - val_loss: 0.5685 - val_dice_coefficient: 0.4315\n",
            "Epoch 7/100\n",
            "8/8 [==============================] - 30s 4s/step - loss: 0.1823 - dice_coefficient: 0.8167 - val_loss: 0.5422 - val_dice_coefficient: 0.4578\n",
            "Epoch 8/100\n",
            "8/8 [==============================] - 30s 4s/step - loss: 0.1776 - dice_coefficient: 0.8227 - val_loss: 0.5021 - val_dice_coefficient: 0.4979\n",
            "Epoch 9/100\n",
            "8/8 [==============================] - 30s 4s/step - loss: 0.1607 - dice_coefficient: 0.8396 - val_loss: 0.4740 - val_dice_coefficient: 0.5260\n",
            "Epoch 10/100\n",
            "8/8 [==============================] - 30s 4s/step - loss: 0.1571 - dice_coefficient: 0.8433 - val_loss: 0.4497 - val_dice_coefficient: 0.5503\n",
            "Epoch 11/100\n",
            "8/8 [==============================] - 30s 4s/step - loss: 0.1489 - dice_coefficient: 0.8499 - val_loss: 0.4215 - val_dice_coefficient: 0.5785\n",
            "Epoch 12/100\n",
            "8/8 [==============================] - 30s 4s/step - loss: 0.1416 - dice_coefficient: 0.8576 - val_loss: 0.4027 - val_dice_coefficient: 0.5973\n",
            "Epoch 13/100\n",
            "8/8 [==============================] - 30s 4s/step - loss: 0.1355 - dice_coefficient: 0.8639 - val_loss: 0.3827 - val_dice_coefficient: 0.6173\n",
            "Epoch 14/100\n",
            "8/8 [==============================] - 30s 4s/step - loss: 0.1358 - dice_coefficient: 0.8628 - val_loss: 0.3646 - val_dice_coefficient: 0.6354\n",
            "Epoch 15/100\n",
            "8/8 [==============================] - 30s 4s/step - loss: 0.1290 - dice_coefficient: 0.8694 - val_loss: 0.3558 - val_dice_coefficient: 0.6442\n",
            "Epoch 16/100\n",
            "8/8 [==============================] - 30s 4s/step - loss: 0.1279 - dice_coefficient: 0.8715 - val_loss: 0.3432 - val_dice_coefficient: 0.6568\n",
            "Epoch 17/100\n",
            "8/8 [==============================] - 30s 4s/step - loss: 0.1294 - dice_coefficient: 0.8696 - val_loss: 0.3412 - val_dice_coefficient: 0.6588\n",
            "Epoch 18/100\n",
            "8/8 [==============================] - 30s 4s/step - loss: 0.1231 - dice_coefficient: 0.8762 - val_loss: 0.3221 - val_dice_coefficient: 0.6779\n",
            "Epoch 19/100\n",
            "8/8 [==============================] - 30s 4s/step - loss: 0.1149 - dice_coefficient: 0.8848 - val_loss: 0.3196 - val_dice_coefficient: 0.6804\n",
            "Epoch 20/100\n",
            "8/8 [==============================] - 29s 4s/step - loss: 0.1146 - dice_coefficient: 0.8838 - val_loss: 0.3027 - val_dice_coefficient: 0.6973\n",
            "Epoch 21/100\n",
            "8/8 [==============================] - 30s 4s/step - loss: 0.1098 - dice_coefficient: 0.8896 - val_loss: 0.2992 - val_dice_coefficient: 0.7008\n",
            "Epoch 22/100\n",
            "8/8 [==============================] - 30s 4s/step - loss: 0.1101 - dice_coefficient: 0.8899 - val_loss: 0.2953 - val_dice_coefficient: 0.7047\n",
            "Epoch 23/100\n",
            "8/8 [==============================] - 30s 4s/step - loss: 0.1055 - dice_coefficient: 0.8932 - val_loss: 0.2818 - val_dice_coefficient: 0.7182\n",
            "Epoch 24/100\n",
            "8/8 [==============================] - 29s 4s/step - loss: 0.1055 - dice_coefficient: 0.8942 - val_loss: 0.2762 - val_dice_coefficient: 0.7238\n",
            "Epoch 25/100\n",
            "8/8 [==============================] - 29s 4s/step - loss: 0.1012 - dice_coefficient: 0.8986 - val_loss: 0.2770 - val_dice_coefficient: 0.7230\n",
            "Epoch 26/100\n",
            "8/8 [==============================] - 30s 4s/step - loss: 0.1017 - dice_coefficient: 0.8971 - val_loss: 0.2713 - val_dice_coefficient: 0.7287\n",
            "Epoch 27/100\n",
            "8/8 [==============================] - 30s 4s/step - loss: 0.0968 - dice_coefficient: 0.9032 - val_loss: 0.2704 - val_dice_coefficient: 0.7296\n",
            "Epoch 28/100\n",
            "8/8 [==============================] - 29s 4s/step - loss: 0.0947 - dice_coefficient: 0.9036 - val_loss: 0.2619 - val_dice_coefficient: 0.7381\n",
            "Epoch 29/100\n",
            "8/8 [==============================] - 30s 4s/step - loss: 0.0957 - dice_coefficient: 0.9043 - val_loss: 0.2660 - val_dice_coefficient: 0.7340\n",
            "Epoch 30/100\n",
            "8/8 [==============================] - 30s 4s/step - loss: 0.0945 - dice_coefficient: 0.9057 - val_loss: 0.2563 - val_dice_coefficient: 0.7437\n",
            "Epoch 31/100\n",
            "8/8 [==============================] - 30s 4s/step - loss: 0.0915 - dice_coefficient: 0.9080 - val_loss: 0.2533 - val_dice_coefficient: 0.7467\n",
            "Epoch 32/100\n",
            "8/8 [==============================] - 29s 4s/step - loss: 0.0884 - dice_coefficient: 0.9107 - val_loss: 0.2487 - val_dice_coefficient: 0.7513\n",
            "Epoch 33/100\n",
            "8/8 [==============================] - 30s 4s/step - loss: 0.0862 - dice_coefficient: 0.9125 - val_loss: 0.2430 - val_dice_coefficient: 0.7570\n",
            "Epoch 34/100\n",
            "8/8 [==============================] - 30s 4s/step - loss: 0.1002 - dice_coefficient: 0.9001 - val_loss: 0.2629 - val_dice_coefficient: 0.7371\n",
            "Epoch 35/100\n",
            "8/8 [==============================] - 30s 4s/step - loss: 0.0897 - dice_coefficient: 0.9105 - val_loss: 0.3154 - val_dice_coefficient: 0.6846\n",
            "Epoch 36/100\n",
            "8/8 [==============================] - 30s 4s/step - loss: 0.0890 - dice_coefficient: 0.9109 - val_loss: 0.3028 - val_dice_coefficient: 0.6972\n",
            "Epoch 37/100\n",
            "8/8 [==============================] - 30s 4s/step - loss: 0.0905 - dice_coefficient: 0.9088 - val_loss: 0.2764 - val_dice_coefficient: 0.7236\n",
            "Epoch 38/100\n",
            "8/8 [==============================] - 29s 4s/step - loss: 0.0812 - dice_coefficient: 0.9175 - val_loss: 0.2735 - val_dice_coefficient: 0.7265\n",
            "Epoch 39/100\n",
            "8/8 [==============================] - 30s 4s/step - loss: 0.0872 - dice_coefficient: 0.9129 - val_loss: 0.2561 - val_dice_coefficient: 0.7439\n",
            "Epoch 40/100\n",
            "8/8 [==============================] - 30s 4s/step - loss: 0.0872 - dice_coefficient: 0.9127 - val_loss: 0.2643 - val_dice_coefficient: 0.7357\n",
            "Epoch 41/100\n",
            "8/8 [==============================] - 30s 4s/step - loss: 0.0817 - dice_coefficient: 0.9166 - val_loss: 0.2514 - val_dice_coefficient: 0.7486\n",
            "Epoch 42/100\n",
            "8/8 [==============================] - 30s 4s/step - loss: 0.0800 - dice_coefficient: 0.9201 - val_loss: 0.2472 - val_dice_coefficient: 0.7528\n",
            "Epoch 43/100\n",
            "8/8 [==============================] - 29s 4s/step - loss: 0.0775 - dice_coefficient: 0.9205 - val_loss: 0.2445 - val_dice_coefficient: 0.7555\n",
            "Epoch 44/100\n",
            "8/8 [==============================] - 30s 4s/step - loss: 0.0765 - dice_coefficient: 0.9233 - val_loss: 0.2439 - val_dice_coefficient: 0.7561\n",
            "Epoch 45/100\n",
            "8/8 [==============================] - 30s 4s/step - loss: 0.0749 - dice_coefficient: 0.9243 - val_loss: 0.2332 - val_dice_coefficient: 0.7668\n",
            "Epoch 46/100\n",
            "8/8 [==============================] - 30s 4s/step - loss: 0.0732 - dice_coefficient: 0.9264 - val_loss: 0.2343 - val_dice_coefficient: 0.7657\n",
            "Epoch 47/100\n",
            "8/8 [==============================] - 30s 4s/step - loss: 0.0736 - dice_coefficient: 0.9262 - val_loss: 0.2318 - val_dice_coefficient: 0.7682\n",
            "Epoch 48/100\n",
            "8/8 [==============================] - 30s 4s/step - loss: 0.0682 - dice_coefficient: 0.9307 - val_loss: 0.2279 - val_dice_coefficient: 0.7721\n",
            "Epoch 49/100\n",
            "8/8 [==============================] - 30s 4s/step - loss: 0.0686 - dice_coefficient: 0.9315 - val_loss: 0.2282 - val_dice_coefficient: 0.7718\n",
            "Epoch 50/100\n",
            "8/8 [==============================] - 29s 4s/step - loss: 0.0675 - dice_coefficient: 0.9328 - val_loss: 0.2251 - val_dice_coefficient: 0.7749\n",
            "Epoch 51/100\n",
            "8/8 [==============================] - 30s 4s/step - loss: 0.0666 - dice_coefficient: 0.9333 - val_loss: 0.2181 - val_dice_coefficient: 0.7819\n",
            "Epoch 52/100\n",
            "8/8 [==============================] - 30s 4s/step - loss: 0.0657 - dice_coefficient: 0.9342 - val_loss: 0.2151 - val_dice_coefficient: 0.7849\n",
            "Epoch 53/100\n",
            "8/8 [==============================] - 30s 4s/step - loss: 0.0637 - dice_coefficient: 0.9327 - val_loss: 0.2088 - val_dice_coefficient: 0.7912\n",
            "Epoch 54/100\n",
            "8/8 [==============================] - 30s 4s/step - loss: 0.0691 - dice_coefficient: 0.9309 - val_loss: 0.2215 - val_dice_coefficient: 0.7785\n",
            "Epoch 55/100\n",
            "8/8 [==============================] - 30s 4s/step - loss: 0.0693 - dice_coefficient: 0.9284 - val_loss: 0.2101 - val_dice_coefficient: 0.7899\n",
            "Epoch 56/100\n",
            "8/8 [==============================] - 30s 4s/step - loss: 0.0684 - dice_coefficient: 0.9312 - val_loss: 0.2137 - val_dice_coefficient: 0.7863\n",
            "Epoch 57/100\n",
            "8/8 [==============================] - 29s 4s/step - loss: 0.0684 - dice_coefficient: 0.9316 - val_loss: 0.1945 - val_dice_coefficient: 0.8055\n",
            "Epoch 58/100\n",
            "8/8 [==============================] - 30s 4s/step - loss: 0.0646 - dice_coefficient: 0.9347 - val_loss: 0.2022 - val_dice_coefficient: 0.7978\n",
            "Epoch 59/100\n",
            "8/8 [==============================] - 30s 4s/step - loss: 0.0662 - dice_coefficient: 0.9324 - val_loss: 0.1977 - val_dice_coefficient: 0.8023\n",
            "Epoch 60/100\n",
            "8/8 [==============================] - 29s 4s/step - loss: 0.0641 - dice_coefficient: 0.9359 - val_loss: 0.1979 - val_dice_coefficient: 0.8021\n",
            "Epoch 61/100\n",
            "8/8 [==============================] - 29s 4s/step - loss: 0.0618 - dice_coefficient: 0.9380 - val_loss: 0.1936 - val_dice_coefficient: 0.8064\n",
            "Epoch 62/100\n",
            "8/8 [==============================] - 30s 4s/step - loss: 0.0604 - dice_coefficient: 0.9398 - val_loss: 0.1923 - val_dice_coefficient: 0.8077\n",
            "Epoch 63/100\n",
            "8/8 [==============================] - 30s 4s/step - loss: 0.0623 - dice_coefficient: 0.9377 - val_loss: 0.1913 - val_dice_coefficient: 0.8087\n",
            "Epoch 64/100\n",
            "8/8 [==============================] - 30s 4s/step - loss: 0.0594 - dice_coefficient: 0.9403 - val_loss: 0.1842 - val_dice_coefficient: 0.8158\n",
            "Epoch 65/100\n",
            "8/8 [==============================] - 30s 4s/step - loss: 0.0566 - dice_coefficient: 0.9435 - val_loss: 0.1850 - val_dice_coefficient: 0.8150\n",
            "Epoch 66/100\n",
            "8/8 [==============================] - 29s 4s/step - loss: 0.0559 - dice_coefficient: 0.9439 - val_loss: 0.1805 - val_dice_coefficient: 0.8195\n",
            "Epoch 67/100\n",
            "8/8 [==============================] - 30s 4s/step - loss: 0.0565 - dice_coefficient: 0.9434 - val_loss: 0.1627 - val_dice_coefficient: 0.8373\n",
            "Epoch 68/100\n",
            "8/8 [==============================] - 30s 4s/step - loss: 0.0551 - dice_coefficient: 0.9448 - val_loss: 0.1780 - val_dice_coefficient: 0.8220\n",
            "Epoch 69/100\n",
            "8/8 [==============================] - 30s 4s/step - loss: 0.0534 - dice_coefficient: 0.9465 - val_loss: 0.1626 - val_dice_coefficient: 0.8374\n",
            "Epoch 70/100\n",
            "8/8 [==============================] - 30s 4s/step - loss: 0.0540 - dice_coefficient: 0.9326 - val_loss: 0.1766 - val_dice_coefficient: 0.8234\n",
            "Epoch 71/100\n",
            "8/8 [==============================] - 30s 4s/step - loss: 0.0734 - dice_coefficient: 0.9263 - val_loss: 0.1875 - val_dice_coefficient: 0.8125\n",
            "Epoch 72/100\n",
            "8/8 [==============================] - 30s 4s/step - loss: 0.0682 - dice_coefficient: 0.9322 - val_loss: 0.2495 - val_dice_coefficient: 0.7505\n",
            "Epoch 73/100\n",
            "8/8 [==============================] - 30s 4s/step - loss: 0.0702 - dice_coefficient: 0.9293 - val_loss: 0.1779 - val_dice_coefficient: 0.8221\n",
            "Epoch 74/100\n",
            "8/8 [==============================] - 30s 4s/step - loss: 0.0598 - dice_coefficient: 0.9401 - val_loss: 0.1951 - val_dice_coefficient: 0.8049\n",
            "Epoch 75/100\n",
            "8/8 [==============================] - 30s 4s/step - loss: 0.0581 - dice_coefficient: 0.9413 - val_loss: 0.1653 - val_dice_coefficient: 0.8347\n",
            "Epoch 76/100\n",
            "8/8 [==============================] - 30s 4s/step - loss: 0.0604 - dice_coefficient: 0.9399 - val_loss: 0.1507 - val_dice_coefficient: 0.8493\n",
            "Epoch 77/100\n",
            "8/8 [==============================] - 30s 4s/step - loss: 0.0529 - dice_coefficient: 0.9474 - val_loss: 0.1268 - val_dice_coefficient: 0.8732\n",
            "Epoch 78/100\n",
            "8/8 [==============================] - 29s 4s/step - loss: 0.0499 - dice_coefficient: 0.9493 - val_loss: 0.1547 - val_dice_coefficient: 0.8453\n",
            "Epoch 79/100\n",
            "8/8 [==============================] - 30s 4s/step - loss: 0.0537 - dice_coefficient: 0.9453 - val_loss: 0.0950 - val_dice_coefficient: 0.9050\n",
            "Epoch 80/100\n",
            "8/8 [==============================] - 30s 4s/step - loss: 0.0535 - dice_coefficient: 0.9455 - val_loss: 0.1096 - val_dice_coefficient: 0.8904\n",
            "Epoch 81/100\n",
            "8/8 [==============================] - 30s 4s/step - loss: 0.0566 - dice_coefficient: 0.9432 - val_loss: 0.0887 - val_dice_coefficient: 0.9113\n",
            "Epoch 82/100\n",
            "8/8 [==============================] - 30s 4s/step - loss: 0.0538 - dice_coefficient: 0.9459 - val_loss: 0.0873 - val_dice_coefficient: 0.9127\n",
            "Epoch 83/100\n",
            "8/8 [==============================] - 30s 4s/step - loss: 0.0525 - dice_coefficient: 0.9473 - val_loss: 0.0840 - val_dice_coefficient: 0.9160\n",
            "Epoch 84/100\n",
            "8/8 [==============================] - 30s 4s/step - loss: 0.0484 - dice_coefficient: 0.9516 - val_loss: 0.0811 - val_dice_coefficient: 0.9189\n",
            "Epoch 85/100\n",
            "8/8 [==============================] - 30s 4s/step - loss: 0.0489 - dice_coefficient: 0.9510 - val_loss: 0.0868 - val_dice_coefficient: 0.9132\n",
            "Epoch 86/100\n",
            "8/8 [==============================] - 30s 4s/step - loss: 0.0478 - dice_coefficient: 0.9518 - val_loss: 0.0700 - val_dice_coefficient: 0.9300\n",
            "Epoch 87/100\n",
            "8/8 [==============================] - 29s 4s/step - loss: 0.0464 - dice_coefficient: 0.9536 - val_loss: 0.0761 - val_dice_coefficient: 0.9239\n",
            "Epoch 88/100\n",
            "8/8 [==============================] - 29s 4s/step - loss: 0.0474 - dice_coefficient: 0.9493 - val_loss: 0.0706 - val_dice_coefficient: 0.9294\n",
            "Epoch 89/100\n",
            "8/8 [==============================] - 30s 4s/step - loss: 0.0490 - dice_coefficient: 0.9508 - val_loss: 0.0714 - val_dice_coefficient: 0.9286\n",
            "Epoch 90/100\n",
            "8/8 [==============================] - 30s 4s/step - loss: 0.0485 - dice_coefficient: 0.9509 - val_loss: 0.0736 - val_dice_coefficient: 0.9264\n",
            "Epoch 91/100\n",
            "8/8 [==============================] - 29s 4s/step - loss: 0.0457 - dice_coefficient: 0.9544 - val_loss: 0.0724 - val_dice_coefficient: 0.9276\n",
            "Epoch 92/100\n",
            "8/8 [==============================] - 30s 4s/step - loss: 0.0445 - dice_coefficient: 0.9556 - val_loss: 0.0722 - val_dice_coefficient: 0.9278\n",
            "Epoch 93/100\n",
            "8/8 [==============================] - 30s 4s/step - loss: 0.0437 - dice_coefficient: 0.9559 - val_loss: 0.0699 - val_dice_coefficient: 0.9301\n",
            "Epoch 94/100\n",
            "8/8 [==============================] - 29s 4s/step - loss: 0.0431 - dice_coefficient: 0.9561 - val_loss: 0.0690 - val_dice_coefficient: 0.9310\n",
            "Epoch 95/100\n",
            "8/8 [==============================] - 30s 4s/step - loss: 0.0429 - dice_coefficient: 0.9570 - val_loss: 0.0654 - val_dice_coefficient: 0.9346\n",
            "Epoch 96/100\n",
            "8/8 [==============================] - 30s 4s/step - loss: 0.0455 - dice_coefficient: 0.9545 - val_loss: 0.0714 - val_dice_coefficient: 0.9286\n",
            "Epoch 97/100\n",
            "8/8 [==============================] - 30s 4s/step - loss: 0.0444 - dice_coefficient: 0.9557 - val_loss: 0.0662 - val_dice_coefficient: 0.9338\n",
            "Epoch 98/100\n",
            "8/8 [==============================] - 29s 4s/step - loss: 0.0427 - dice_coefficient: 0.9572 - val_loss: 0.0642 - val_dice_coefficient: 0.9358\n",
            "Epoch 99/100\n",
            "8/8 [==============================] - 30s 4s/step - loss: 0.0429 - dice_coefficient: 0.9571 - val_loss: 0.0622 - val_dice_coefficient: 0.9378\n",
            "Epoch 100/100\n",
            "8/8 [==============================] - 30s 4s/step - loss: 0.0415 - dice_coefficient: 0.9585 - val_loss: 0.0627 - val_dice_coefficient: 0.9373\n"
          ],
          "name": "stdout"
        }
      ]
    },
    {
      "cell_type": "markdown",
      "metadata": {
        "id": "whtF9V1npJ8s"
      },
      "source": []
    },
    {
      "cell_type": "code",
      "metadata": {
        "id": "LVTe3TrrE6DS"
      },
      "source": [
        "#Save model for future use\n",
        "model.save('/content/drive/MyDrive/Colab Notebooks/saved_models/sandstone_3D_100epochs.h5')"
      ],
      "execution_count": null,
      "outputs": []
    },
    {
      "cell_type": "code",
      "metadata": {
        "id": "5Nk4OFMzAoLk",
        "colab": {
          "base_uri": "https://localhost:8080/",
          "height": 573
        },
        "outputId": "ac02a95a-06d5-4ceb-eed5-8b236bcb66a3"
      },
      "source": [
        "###\n",
        "#plot the training and validation IoU and loss at each epoch\n",
        "loss = history.history['loss']\n",
        "val_loss = history.history['val_loss']\n",
        "epochs = range(1, len(loss) + 1)\n",
        "plt.plot(epochs, loss, 'y', label='Training loss')\n",
        "plt.plot(epochs, val_loss, 'r', label='Validation loss')\n",
        "plt.title('Training and validation loss')\n",
        "plt.xlabel('Epochs')\n",
        "plt.ylabel('Loss')\n",
        "plt.legend()\n",
        "plt.show()\n",
        "\n",
        "acc = history.history['dice_coefficient']\n",
        "val_acc = history.history['val_dice_coefficient']\n",
        "\n",
        "plt.plot(epochs, acc, 'y', label='Training Dice')\n",
        "plt.plot(epochs, val_acc, 'r', label='Validation Dice')\n",
        "plt.title('Training and validation Dice')\n",
        "plt.xlabel('Epochs')\n",
        "plt.ylabel('Dice')\n",
        "plt.legend()\n",
        "plt.show()"
      ],
      "execution_count": null,
      "outputs": [
        {
          "output_type": "display_data",
          "data": {
            "image/png": "[encoded data removed]",
            "text/plain": [
              "<Figure size 432x288 with 1 Axes>"
            ]
          },
          "metadata": {
            "tags": [],
            "needs_background": "light"
          }
        },
        {
          "output_type": "display_data",
          "data": {
            "image/png": "[encoded data removed]",
            "text/plain": [
              "<Figure size 432x288 with 1 Axes>"
            ]
          },
          "metadata": {
            "tags": [],
            "needs_background": "light"
          }
        }
      ]
    },
    {
      "cell_type": "code",
      "metadata": {
        "id": "lwjlR25nF54w"
      },
      "source": [
        "#Load the pretrained model for testing and predictions. \n",
        "from keras.models import load_model\n",
        "my_model = load_model('/content/drive/MyDrive/Colab Notebooks/saved_models/sandstone_3D_100epochs.h5', compile=False)\n",
        "#If you load a different model do not forget to preprocess accordingly. "
      ],
      "execution_count": null,
      "outputs": []
    },
    {
      "cell_type": "code",
      "metadata": {
        "id": "kTAQpcUQA7SN"
      },
      "source": [
        "#Predict on the test data\n",
        "y_pred=my_model.predict(X_test)\n",
        "y_pred_argmax=np.argmax(y_pred, axis=4)\n",
        "y_test_argmax = np.argmax(y_test, axis=4)\n"
      ],
      "execution_count": null,
      "outputs": []
    },
    {
      "cell_type": "code",
      "metadata": {
        "id": "FjHYiOqYBifK",
        "colab": {
          "base_uri": "https://localhost:8080/"
        },
        "outputId": "e1405f8e-56e2-4414-a75c-87a79dd39f33"
      },
      "source": [
        "print(y_pred_argmax.shape)\n",
        "print(y_test_argmax.shape)\n",
        "print(np.unique(y_pred_argmax))"
      ],
      "execution_count": null,
      "outputs": [
        {
          "output_type": "stream",
          "text": [
            "(7, 64, 64, 64)\n",
            "(7, 64, 64, 64)\n",
            "[0 1 2 3]\n"
          ],
          "name": "stdout"
        }
      ]
    },
    {
      "cell_type": "code",
      "metadata": {
        "id": "3lv4EhPCHsrz",
        "colab": {
          "base_uri": "https://localhost:8080/"
        },
        "outputId": "f2ca13a2-3d7a-4a19-f3ba-1378d192115c"
      },
      "source": [
        "#Using built in keras function for IoU\n",
        "#Only works on TF > 2.0\n",
        "from keras.metrics import MeanIoU\n",
        "from keras.metrics import MeanIoU\n",
        "n_classes = 4\n",
        "IOU_keras = MeanIoU(num_classes=n_classes)  \n",
        "IOU_keras.update_state(y_test_argmax, y_pred_argmax)\n",
        "print(\"Mean IoU =\", IOU_keras.result().numpy())"
      ],
      "execution_count": null,
      "outputs": [
        {
          "output_type": "stream",
          "text": [
            "Mean IoU = 0.7921039\n"
          ],
          "name": "stdout"
        }
      ]
    },
    {
      "cell_type": "code",
      "metadata": {
        "id": "BPcRSfobCBrE",
        "colab": {
          "base_uri": "https://localhost:8080/"
        },
        "outputId": "c9b3e7ee-54dc-4183-d383-de605fd86e1b"
      },
      "source": [
        "#Test some random images\n",
        "import random\n",
        "test_img_number = random.randint(0, len(X_test))\n",
        "test_img = X_test[test_img_number]\n",
        "ground_truth=y_test[test_img_number]\n",
        "\n",
        "test_img_input=np.expand_dims(test_img, 0)\n",
        "\n",
        "\n",
        "test_pred = my_model.predict(test_img_input)\n",
        "test_prediction = np.argmax(test_pred, axis=4)[0,:,:,:]\n",
        "\n",
        "ground_truth_argmax = np.argmax(ground_truth, axis=3)\n",
        "print(ground_truth_argmax.shape)"
      ],
      "execution_count": null,
      "outputs": [
        {
          "output_type": "stream",
          "text": [
            "(64, 64, 64)\n"
          ],
          "name": "stdout"
        }
      ]
    },
    {
      "cell_type": "code",
      "metadata": {
        "id": "7W9XsGK7FMuN",
        "colab": {
          "base_uri": "https://localhost:8080/",
          "height": 261
        },
        "outputId": "1404320d-bd8e-4998-e77b-8639f1882cf3"
      },
      "source": [
        "#Plot individual slices from test predictions for verification\n",
        "slice = random.randint(0, ground_truth_argmax.shape[2]-1)\n",
        "plt.figure(figsize=(12, 8))\n",
        "plt.subplot(231)\n",
        "plt.title('Testing Image')\n",
        "plt.imshow(test_img[slice,:,:,0], cmap='gray')\n",
        "plt.subplot(232)\n",
        "plt.title('Testing Label')\n",
        "plt.imshow(ground_truth_argmax[slice,:,:])\n",
        "plt.subplot(233)\n",
        "plt.title('Prediction on test image')\n",
        "plt.imshow(test_prediction[slice,:,:])\n",
        "plt.show()"
      ],
      "execution_count": null,
      "outputs": [
        {
          "output_type": "display_data",
          "data": {
            "image/png": "[encoded data removed]",
            "text/plain": [
              "<Figure size 864x576 with 3 Axes>"
            ]
          },
          "metadata": {
            "tags": [],
            "needs_background": "light"
          }
        }
      ]
    },
    {
      "cell_type": "markdown",
      "metadata": {
        "id": "CNi7_zeC7SmG"
      },
      "source": [
        "Now segment the full volume using the trained model."
      ]
    },
    {
      "cell_type": "code",
      "metadata": {
        "id": "C1eYttiN7tH4",
        "colab": {
          "base_uri": "https://localhost:8080/"
        },
        "outputId": "0e20d571-a6be-421c-fe81-e18cc91dd2e9"
      },
      "source": [
        "#Break the large image (volume) into patches of same size as the training images (patches)\n",
        "large_image = io.imread('/content/drive/MyDrive/Colab Notebooks/data/sandstone/3d_data/448_images_512x512.tif')\n",
        "patches = patchify(large_image, (64, 64, 64), step=64)  #Step=256 for 256 patches means no overlap\n",
        "print(large_image.shape)\n",
        "print(patches.shape)"
      ],
      "execution_count": null,
      "outputs": [
        {
          "output_type": "stream",
          "text": [
            "(448, 512, 512)\n",
            "(7, 8, 8, 64, 64, 64)\n"
          ],
          "name": "stdout"
        }
      ]
    },
    {
      "cell_type": "code",
      "metadata": {
        "id": "G6KXGtea89wi"
      },
      "source": [
        "# Predict each 3D patch   \n",
        "predicted_patches = []\n",
        "for i in range(patches.shape[0]):\n",
        "  for j in range(patches.shape[1]):\n",
        "    for k in range(patches.shape[2]):\n",
        "      #print(i,j,k)\n",
        "      single_patch = patches[i,j,k, :,:,:]\n",
        "      single_patch_3ch = np.stack((single_patch,)*3, axis=-1)\n",
        "      single_patch_3ch = single_patch_3ch/255.\n",
        "      single_patch_3ch_input = np.expand_dims(single_patch_3ch, axis=0)\n",
        "      single_patch_prediction = my_model.predict(single_patch_3ch_input)\n",
        "      single_patch_prediction_argmax = np.argmax(single_patch_prediction, axis=4)[0,:,:,:]\n",
        "      predicted_patches.append(single_patch_prediction_argmax)\n",
        "      \n"
      ],
      "execution_count": null,
      "outputs": []
    },
    {
      "cell_type": "code",
      "metadata": {
        "id": "yxX9vrPMAvK2",
        "colab": {
          "base_uri": "https://localhost:8080/"
        },
        "outputId": "55a2a7df-56c0-4ce8-d424-8a78e7b6cc4e"
      },
      "source": [
        "#Convert list to numpy array\n",
        "predicted_patches = np.array(predicted_patches)\n",
        "print(predicted_patches.shape)"
      ],
      "execution_count": null,
      "outputs": [
        {
          "output_type": "stream",
          "text": [
            "(448, 64, 64, 64)\n"
          ],
          "name": "stdout"
        }
      ]
    },
    {
      "cell_type": "code",
      "metadata": {
        "id": "qYQi_STcA6gw",
        "colab": {
          "base_uri": "https://localhost:8080/"
        },
        "outputId": "5ced72af-e4fc-48eb-cb2e-ffb13b33937b"
      },
      "source": [
        "#Reshape to the shape we had after patchifying\n",
        "predicted_patches_reshaped = np.reshape(predicted_patches, \n",
        "                                        (patches.shape[0], patches.shape[1], patches.shape[2],\n",
        "                                         patches.shape[3], patches.shape[4], patches.shape[5]) )\n",
        "print(predicted_patches_reshaped.shape)"
      ],
      "execution_count": null,
      "outputs": [
        {
          "output_type": "stream",
          "text": [
            "(7, 8, 8, 64, 64, 64)\n"
          ],
          "name": "stdout"
        }
      ]
    },
    {
      "cell_type": "code",
      "metadata": {
        "id": "SQcYSuaeBP2i",
        "colab": {
          "base_uri": "https://localhost:8080/"
        },
        "outputId": "295682c6-8247-48f9-f296-5535593085b2"
      },
      "source": [
        "#Repach individual patches into the orginal volume shape\n",
        "reconstructed_image = unpatchify(predicted_patches_reshaped, large_image.shape)\n",
        "print(reconstructed_image.shape)"
      ],
      "execution_count": null,
      "outputs": [
        {
          "output_type": "stream",
          "text": [
            "(448, 512, 512)\n"
          ],
          "name": "stdout"
        }
      ]
    },
    {
      "cell_type": "code",
      "metadata": {
        "id": "rFF2FwCGDR1A",
        "colab": {
          "base_uri": "https://localhost:8080/"
        },
        "outputId": "6df29294-60de-46e1-ffb3-fb1c04750e17"
      },
      "source": [
        "print(reconstructed_image.dtype)"
      ],
      "execution_count": null,
      "outputs": [
        {
          "output_type": "stream",
          "text": [
            "int64\n"
          ],
          "name": "stdout"
        }
      ]
    },
    {
      "cell_type": "code",
      "metadata": {
        "id": "6VF_g8oLDjKp",
        "colab": {
          "base_uri": "https://localhost:8080/"
        },
        "outputId": "bc9e5324-9bb1-4e70-aefa-dfda241d6bae"
      },
      "source": [
        "#Convert to uint8 so we can open image in most image viewing software packages\n",
        "reconstructed_image=reconstructed_image.astype(np.uint8)\n",
        "print(reconstructed_image.dtype)"
      ],
      "execution_count": null,
      "outputs": [
        {
          "output_type": "stream",
          "text": [
            "uint8\n"
          ],
          "name": "stdout"
        }
      ]
    },
    {
      "cell_type": "code",
      "metadata": {
        "id": "OdjWCDYoKLgM"
      },
      "source": [
        "#Now save it as segmented volume.\n",
        "from tifffile import imsave\n",
        "imsave('/content/drive/MyDrive/Colab Notebooks/data/sandstone/3d_data/448_images_segmented.tif', reconstructed_image)\n",
        "    "
      ],
      "execution_count": null,
      "outputs": []
    },
    {
      "cell_type": "code",
      "metadata": {
        "id": "SsBu290SNNSD"
      },
      "source": [
        "#If you would like to save the volume as multichannel dataset...."
      ],
      "execution_count": null,
      "outputs": []
    },
    {
      "cell_type": "code",
      "metadata": {
        "id": "EMFGGwT8FpEl",
        "colab": {
          "base_uri": "https://localhost:8080/"
        },
        "outputId": "e7f4c8cc-453a-4fc7-8e60-899d3ac0ce3c"
      },
      "source": [
        "print(np.unique(reconstructed_image))"
      ],
      "execution_count": null,
      "outputs": [
        {
          "output_type": "stream",
          "text": [
            "[0 1 2 3]\n"
          ],
          "name": "stdout"
        }
      ]
    },
    {
      "cell_type": "code",
      "metadata": {
        "id": "USCSJT4rGBDt"
      },
      "source": [
        "#Seperate each channel/segment to be combined as multiple channels.\n",
        "num_segments=4\n",
        "segm0 = (reconstructed_image == 0)\n",
        "segm1 = (reconstructed_image == 1)\n",
        "segm2 = (reconstructed_image == 2)\n",
        "segm3 = (reconstructed_image == 3)\n",
        "\n",
        "final = np.empty((reconstructed_image.shape[0], reconstructed_image.shape[1], reconstructed_image.shape[2], num_segments))\n",
        "final[:,:,:,0] = segm0\n",
        "final[:,:,:,1] = segm1\n",
        "final[:,:,:,2] = segm2\n",
        "final[:,:,:,3] = segm3"
      ],
      "execution_count": null,
      "outputs": []
    },
    {
      "cell_type": "code",
      "metadata": {
        "id": "F4ZfPm41J4yk",
        "colab": {
          "base_uri": "https://localhost:8080/"
        },
        "outputId": "19ea7b42-5be5-4676-e993-1a3fe7cb6b18"
      },
      "source": [
        "#Use APEER OMETIFF library to read and write multidimensional images\n",
        "!pip install apeer-ometiff-library"
      ],
      "execution_count": null,
      "outputs": [
        {
          "output_type": "stream",
          "text": [
            "Collecting apeer-ometiff-library\n",
            "  Downloading https://files.pythonhosted.org/packages/ff/1a/338fc19c9be9c1f911fbbf9cb1315b0d98841936498e11c6f105b397e2b7/apeer_ometiff_library-1.7.2-py3-none-any.whl\n",
            "Requirement already satisfied: numpy in /usr/local/lib/python3.7/dist-packages (from apeer-ometiff-library) (1.19.5)\n",
            "Requirement already satisfied: tifffile in /usr/local/lib/python3.7/dist-packages (from apeer-ometiff-library) (2021.4.8)\n",
            "Installing collected packages: apeer-ometiff-library\n",
            "Successfully installed apeer-ometiff-library-1.7.2\n"
          ],
          "name": "stdout"
        }
      ]
    },
    {
      "cell_type": "code",
      "metadata": {
        "id": "enE_X9SCJoYA"
      },
      "source": [
        "from apeer_ometiff_library import io"
      ],
      "execution_count": null,
      "outputs": []
    },
    {
      "cell_type": "code",
      "metadata": {
        "id": "bj0QC8OWINAD"
      },
      "source": [
        "# Expand image array to 5D of order (T, Z, C, X, Y)\n",
        "# This is the convention for OMETIFF format as written by APEER library\n",
        "final = np.expand_dims(final, axis=0)\n",
        "final=np.swapaxes(final, 2, 4)\n",
        "\n",
        "final = final.astype(np.int8)\n",
        "\n"
      ],
      "execution_count": null,
      "outputs": []
    },
    {
      "cell_type": "code",
      "metadata": {
        "id": "StgpqkJbIa2F",
        "colab": {
          "base_uri": "https://localhost:8080/"
        },
        "outputId": "838eef20-bf93-4f53-c8d4-4ede5fbc9719"
      },
      "source": [
        "print(\"Shape of the segmented volume is: T, Z, C, X, Y \", final.shape)\n",
        "print(final.dtype)\n"
      ],
      "execution_count": null,
      "outputs": [
        {
          "output_type": "stream",
          "text": [
            "Shape of the segmented volume is: T, Z, C, X, Y  (1, 448, 4, 512, 512)\n",
            "int8\n"
          ],
          "name": "stdout"
        }
      ]
    },
    {
      "cell_type": "code",
      "metadata": {
        "id": "oT2L6880WY1k"
      },
      "source": [
        "# Write dataset as multi-dimensional OMETIFF *image*\n",
        "io.write_ometiff(\"/content/drive/MyDrive/Colab Notebooks/data/sandstone/3d_data/448_segmented_multi_channel.ome.tiff\", final)"
      ],
      "execution_count": null,
      "outputs": []
    },
    {
      "cell_type": "markdown",
      "metadata": {
        "id": "cFuW0zJBnXqd"
      },
      "source": [
        "You can view multichannel images for free on: www.apeer.com <p>\n",
        "Here is the link to my image generated above: [Link](https://www.apeer.com/viewer/?account=caprodstorage.blob.core.windows.net&blob=%2F7a1f4aad-cd9c-489b-b708-b2344e982750%2Fe1e3c9e3-14eb-4b1b-b64b-fb73359a8e45%2F448_segmented_multi_channel.ome.tiff&sas=sv%3D2018-03-28%26sr%3Db%26sig%3D1XeS6k%252BLS2KUzWF%252FFJwaj4s1ZJHX%252Bl6xF8JVQLB%252BoNY%253D%26st%3D2021-05-26T16%253A53%253A38Z%26se%3D9999-12-31T23%253A59%253A59Z%26sp%3Dr&ml)\n",
        "\n",
        "<p><p>\n",
        "You can also download ZEN Lite if you are looking for a Windows desktop image handling and processing software. ZEN Lite is free but can be upgraded if you want additional modules. \n",
        "\n",
        "https://www.zeiss.com/microscopy/us/products/microscope-software/zen-lite.html\n"
      ]
    }
  ]
}